{
 "cells": [
  {
   "cell_type": "markdown",
   "id": "72a4f5b3-e97f-4d2f-a280-0273fd777f14",
   "metadata": {},
   "source": [
    "# Using sklearn for predicting house prices in California\n",
    "\n",
    "Based on:\n",
    "- https://www.kaggle.com/code/amritvirsinghx/step-by-step-ml-california-housing-prices/notebook\n",
    "- https://www.kaggle.com/code/ilialar/california-housing-analysis-and-preciction#10.-Plotting-training-and-validation-curves"
   ]
  },
  {
   "cell_type": "markdown",
   "id": "3891d4ba-88c4-4a32-9ae4-b30c1da70f84",
   "metadata": {},
   "source": [
    "## Import libraries"
   ]
  },
  {
   "cell_type": "code",
   "execution_count": 1,
   "id": "97484267-6d5e-4163-9a04-a0f56b76d08b",
   "metadata": {},
   "outputs": [],
   "source": [
    "import numpy as np\n",
    "import pandas as pd\n",
    "\n",
    "from sklearn.model_selection import train_test_split\n",
    "from sklearn.model_selection import KFold, cross_val_score\n",
    "\n",
    "from sklearn.impute import SimpleImputer\n",
    "from sklearn.preprocessing import StandardScaler\n",
    "\n",
    "from sklearn.linear_model import Ridge\n",
    "from sklearn.ensemble import RandomForestRegressor\n",
    "\n",
    "from sklearn.metrics import mean_squared_error\n",
    "from sklearn.model_selection import cross_val_score\n",
    "\n",
    "from sklearn.model_selection import GridSearchCV"
   ]
  },
  {
   "cell_type": "markdown",
   "id": "3451c7b9-95b1-4c7b-a8e0-2dfafbf762c9",
   "metadata": {},
   "source": [
    "## Import data"
   ]
  },
  {
   "cell_type": "code",
   "execution_count": 2,
   "id": "72e1e343-27ab-4464-9094-a196acfce038",
   "metadata": {},
   "outputs": [],
   "source": [
    "housing = pd.read_csv(\"../data/raw/housing.csv\")"
   ]
  },
  {
   "cell_type": "code",
   "execution_count": 3,
   "id": "1ecde83a-2af1-41ff-aa74-59a4a4b2e930",
   "metadata": {},
   "outputs": [
    {
     "data": {
      "text/html": [
       "<div>\n",
       "<style scoped>\n",
       "    .dataframe tbody tr th:only-of-type {\n",
       "        vertical-align: middle;\n",
       "    }\n",
       "\n",
       "    .dataframe tbody tr th {\n",
       "        vertical-align: top;\n",
       "    }\n",
       "\n",
       "    .dataframe thead th {\n",
       "        text-align: right;\n",
       "    }\n",
       "</style>\n",
       "<table border=\"1\" class=\"dataframe\">\n",
       "  <thead>\n",
       "    <tr style=\"text-align: right;\">\n",
       "      <th></th>\n",
       "      <th>longitude</th>\n",
       "      <th>latitude</th>\n",
       "      <th>housing_median_age</th>\n",
       "      <th>total_rooms</th>\n",
       "      <th>total_bedrooms</th>\n",
       "      <th>population</th>\n",
       "      <th>households</th>\n",
       "      <th>median_income</th>\n",
       "      <th>median_house_value</th>\n",
       "      <th>ocean_proximity</th>\n",
       "    </tr>\n",
       "  </thead>\n",
       "  <tbody>\n",
       "    <tr>\n",
       "      <th>0</th>\n",
       "      <td>-122.23</td>\n",
       "      <td>37.88</td>\n",
       "      <td>41.0</td>\n",
       "      <td>880.0</td>\n",
       "      <td>129.0</td>\n",
       "      <td>322.0</td>\n",
       "      <td>126.0</td>\n",
       "      <td>8.3252</td>\n",
       "      <td>452600.0</td>\n",
       "      <td>NEAR BAY</td>\n",
       "    </tr>\n",
       "    <tr>\n",
       "      <th>1</th>\n",
       "      <td>-122.22</td>\n",
       "      <td>37.86</td>\n",
       "      <td>21.0</td>\n",
       "      <td>7099.0</td>\n",
       "      <td>1106.0</td>\n",
       "      <td>2401.0</td>\n",
       "      <td>1138.0</td>\n",
       "      <td>8.3014</td>\n",
       "      <td>358500.0</td>\n",
       "      <td>NEAR BAY</td>\n",
       "    </tr>\n",
       "    <tr>\n",
       "      <th>2</th>\n",
       "      <td>-122.24</td>\n",
       "      <td>37.85</td>\n",
       "      <td>52.0</td>\n",
       "      <td>1467.0</td>\n",
       "      <td>190.0</td>\n",
       "      <td>496.0</td>\n",
       "      <td>177.0</td>\n",
       "      <td>7.2574</td>\n",
       "      <td>352100.0</td>\n",
       "      <td>NEAR BAY</td>\n",
       "    </tr>\n",
       "    <tr>\n",
       "      <th>3</th>\n",
       "      <td>-122.25</td>\n",
       "      <td>37.85</td>\n",
       "      <td>52.0</td>\n",
       "      <td>1274.0</td>\n",
       "      <td>235.0</td>\n",
       "      <td>558.0</td>\n",
       "      <td>219.0</td>\n",
       "      <td>5.6431</td>\n",
       "      <td>341300.0</td>\n",
       "      <td>NEAR BAY</td>\n",
       "    </tr>\n",
       "    <tr>\n",
       "      <th>4</th>\n",
       "      <td>-122.25</td>\n",
       "      <td>37.85</td>\n",
       "      <td>52.0</td>\n",
       "      <td>1627.0</td>\n",
       "      <td>280.0</td>\n",
       "      <td>565.0</td>\n",
       "      <td>259.0</td>\n",
       "      <td>3.8462</td>\n",
       "      <td>342200.0</td>\n",
       "      <td>NEAR BAY</td>\n",
       "    </tr>\n",
       "  </tbody>\n",
       "</table>\n",
       "</div>"
      ],
      "text/plain": [
       "   longitude  latitude  housing_median_age  total_rooms  total_bedrooms  \\\n",
       "0    -122.23     37.88                41.0        880.0           129.0   \n",
       "1    -122.22     37.86                21.0       7099.0          1106.0   \n",
       "2    -122.24     37.85                52.0       1467.0           190.0   \n",
       "3    -122.25     37.85                52.0       1274.0           235.0   \n",
       "4    -122.25     37.85                52.0       1627.0           280.0   \n",
       "\n",
       "   population  households  median_income  median_house_value ocean_proximity  \n",
       "0       322.0       126.0         8.3252            452600.0        NEAR BAY  \n",
       "1      2401.0      1138.0         8.3014            358500.0        NEAR BAY  \n",
       "2       496.0       177.0         7.2574            352100.0        NEAR BAY  \n",
       "3       558.0       219.0         5.6431            341300.0        NEAR BAY  \n",
       "4       565.0       259.0         3.8462            342200.0        NEAR BAY  "
      ]
     },
     "execution_count": 3,
     "metadata": {},
     "output_type": "execute_result"
    }
   ],
   "source": [
    "housing.head()"
   ]
  },
  {
   "cell_type": "markdown",
   "id": "352ab024-38e2-4928-ab85-75b29b5bf631",
   "metadata": {},
   "source": [
    "## Split datasets"
   ]
  },
  {
   "cell_type": "code",
   "execution_count": 5,
   "id": "3bfb681e-c8f0-4d14-b365-0b9feb93d164",
   "metadata": {},
   "outputs": [
    {
     "name": "stdout",
     "output_type": "stream",
     "text": [
      "(15480, 10)\n",
      "(5160, 10)\n"
     ]
    }
   ],
   "source": [
    "train_df, test_df = train_test_split(housing,shuffle = True, test_size = 0.25, random_state=17)\n",
    "\n",
    "print(train_df.shape)\n",
    "print(test_df.shape)"
   ]
  },
  {
   "cell_type": "markdown",
   "id": "920a9129-b957-4660-8929-1f671f4db8af",
   "metadata": {},
   "source": [
    "# FEATURE ENGINEERING"
   ]
  },
  {
   "cell_type": "markdown",
   "id": "44483266-6c5e-4c6d-af64-ffa553f357a4",
   "metadata": {},
   "source": [
    "### Encode ocean proximity"
   ]
  },
  {
   "cell_type": "code",
   "execution_count": 6,
   "id": "6a60990b-c8ea-4077-bbbe-ca9fc8e563da",
   "metadata": {},
   "outputs": [],
   "source": [
    "ocean_proximity_dummies = pd.get_dummies(pd.concat([train_df['ocean_proximity'],test_df['ocean_proximity']]),\n",
    "                                         drop_first=True)"
   ]
  },
  {
   "cell_type": "code",
   "execution_count": 7,
   "id": "d04e8318-7998-4516-8eef-a515b1741983",
   "metadata": {},
   "outputs": [],
   "source": [
    "dummies_names=list(ocean_proximity_dummies.columns)"
   ]
  },
  {
   "cell_type": "code",
   "execution_count": 8,
   "id": "c71bf403-4f93-4ba0-8025-630ae72a0f2f",
   "metadata": {},
   "outputs": [],
   "source": [
    "train_df=pd.concat([train_df,ocean_proximity_dummies[:train_df.shape[0]]], axis=1 )\n",
    "test_df=pd.concat([test_df,ocean_proximity_dummies[train_df.shape[0]:]], axis=1 )\n",
    "\n",
    "train_df=train_df.drop(['ocean_proximity'], axis=1)\n",
    "test_df=test_df.drop(['ocean_proximity'], axis=1)"
   ]
  },
  {
   "cell_type": "code",
   "execution_count": 8,
   "id": "035cc235-fb47-483b-ac00-fd01ed78bf54",
   "metadata": {},
   "outputs": [
    {
     "data": {
      "text/html": [
       "<div>\n",
       "<style scoped>\n",
       "    .dataframe tbody tr th:only-of-type {\n",
       "        vertical-align: middle;\n",
       "    }\n",
       "\n",
       "    .dataframe tbody tr th {\n",
       "        vertical-align: top;\n",
       "    }\n",
       "\n",
       "    .dataframe thead th {\n",
       "        text-align: right;\n",
       "    }\n",
       "</style>\n",
       "<table border=\"1\" class=\"dataframe\">\n",
       "  <thead>\n",
       "    <tr style=\"text-align: right;\">\n",
       "      <th></th>\n",
       "      <th>longitude</th>\n",
       "      <th>latitude</th>\n",
       "      <th>housing_median_age</th>\n",
       "      <th>total_rooms</th>\n",
       "      <th>total_bedrooms</th>\n",
       "      <th>population</th>\n",
       "      <th>households</th>\n",
       "      <th>median_income</th>\n",
       "      <th>median_house_value</th>\n",
       "      <th>INLAND</th>\n",
       "      <th>ISLAND</th>\n",
       "      <th>NEAR BAY</th>\n",
       "      <th>NEAR OCEAN</th>\n",
       "    </tr>\n",
       "  </thead>\n",
       "  <tbody>\n",
       "    <tr>\n",
       "      <th>3400</th>\n",
       "      <td>-118.35</td>\n",
       "      <td>34.28</td>\n",
       "      <td>30.0</td>\n",
       "      <td>3214.0</td>\n",
       "      <td>513.0</td>\n",
       "      <td>1700.0</td>\n",
       "      <td>533.0</td>\n",
       "      <td>4.6944</td>\n",
       "      <td>248200.0</td>\n",
       "      <td>0</td>\n",
       "      <td>0</td>\n",
       "      <td>0</td>\n",
       "      <td>0</td>\n",
       "    </tr>\n",
       "    <tr>\n",
       "      <th>9159</th>\n",
       "      <td>-118.45</td>\n",
       "      <td>34.44</td>\n",
       "      <td>16.0</td>\n",
       "      <td>13406.0</td>\n",
       "      <td>2574.0</td>\n",
       "      <td>7030.0</td>\n",
       "      <td>2440.0</td>\n",
       "      <td>4.6861</td>\n",
       "      <td>187900.0</td>\n",
       "      <td>0</td>\n",
       "      <td>0</td>\n",
       "      <td>0</td>\n",
       "      <td>0</td>\n",
       "    </tr>\n",
       "    <tr>\n",
       "      <th>10592</th>\n",
       "      <td>-117.78</td>\n",
       "      <td>33.69</td>\n",
       "      <td>16.0</td>\n",
       "      <td>3400.0</td>\n",
       "      <td>501.0</td>\n",
       "      <td>1575.0</td>\n",
       "      <td>488.0</td>\n",
       "      <td>6.0961</td>\n",
       "      <td>295500.0</td>\n",
       "      <td>0</td>\n",
       "      <td>0</td>\n",
       "      <td>0</td>\n",
       "      <td>0</td>\n",
       "    </tr>\n",
       "    <tr>\n",
       "      <th>4281</th>\n",
       "      <td>-118.32</td>\n",
       "      <td>34.09</td>\n",
       "      <td>27.0</td>\n",
       "      <td>210.0</td>\n",
       "      <td>98.0</td>\n",
       "      <td>332.0</td>\n",
       "      <td>112.0</td>\n",
       "      <td>2.5556</td>\n",
       "      <td>175000.0</td>\n",
       "      <td>0</td>\n",
       "      <td>0</td>\n",
       "      <td>0</td>\n",
       "      <td>0</td>\n",
       "    </tr>\n",
       "    <tr>\n",
       "      <th>230</th>\n",
       "      <td>-122.20</td>\n",
       "      <td>37.79</td>\n",
       "      <td>40.0</td>\n",
       "      <td>1060.0</td>\n",
       "      <td>256.0</td>\n",
       "      <td>667.0</td>\n",
       "      <td>235.0</td>\n",
       "      <td>4.1739</td>\n",
       "      <td>169600.0</td>\n",
       "      <td>0</td>\n",
       "      <td>0</td>\n",
       "      <td>1</td>\n",
       "      <td>0</td>\n",
       "    </tr>\n",
       "  </tbody>\n",
       "</table>\n",
       "</div>"
      ],
      "text/plain": [
       "       longitude  latitude  housing_median_age  total_rooms  total_bedrooms  \\\n",
       "3400     -118.35     34.28                30.0       3214.0           513.0   \n",
       "9159     -118.45     34.44                16.0      13406.0          2574.0   \n",
       "10592    -117.78     33.69                16.0       3400.0           501.0   \n",
       "4281     -118.32     34.09                27.0        210.0            98.0   \n",
       "230      -122.20     37.79                40.0       1060.0           256.0   \n",
       "\n",
       "       population  households  median_income  median_house_value  INLAND  \\\n",
       "3400       1700.0       533.0         4.6944            248200.0       0   \n",
       "9159       7030.0      2440.0         4.6861            187900.0       0   \n",
       "10592      1575.0       488.0         6.0961            295500.0       0   \n",
       "4281        332.0       112.0         2.5556            175000.0       0   \n",
       "230         667.0       235.0         4.1739            169600.0       0   \n",
       "\n",
       "       ISLAND  NEAR BAY  NEAR OCEAN  \n",
       "3400        0         0           0  \n",
       "9159        0         0           0  \n",
       "10592       0         0           0  \n",
       "4281        0         0           0  \n",
       "230         0         1           0  "
      ]
     },
     "execution_count": 8,
     "metadata": {},
     "output_type": "execute_result"
    }
   ],
   "source": [
    "train_df.head()"
   ]
  },
  {
   "cell_type": "markdown",
   "id": "1698888b-8d3f-46b8-b4f0-e762dcdb9e72",
   "metadata": {},
   "source": [
    "### Impute missing values"
   ]
  },
  {
   "cell_type": "code",
   "execution_count": 16,
   "id": "b92ca12a-836a-49b5-b7f6-ccc30f3dc910",
   "metadata": {},
   "outputs": [
    {
     "data": {
      "text/plain": [
       "SimpleImputer(strategy='median')"
      ]
     },
     "execution_count": 16,
     "metadata": {},
     "output_type": "execute_result"
    }
   ],
   "source": [
    "imputer=SimpleImputer(strategy=\"median\")\n",
    "imputer.fit(train_df)"
   ]
  },
  {
   "cell_type": "code",
   "execution_count": 17,
   "id": "067cd201-87e7-4a1f-9693-b960e993ae04",
   "metadata": {},
   "outputs": [],
   "source": [
    "# use this imputer to transform\n",
    "train_df_imputed=imputer.transform(train_df)\n",
    "test_df_imputed=imputer.transform(test_df)"
   ]
  },
  {
   "cell_type": "code",
   "execution_count": 18,
   "id": "0a14a5ee-bf63-481c-a218-5d3e555b67ae",
   "metadata": {},
   "outputs": [],
   "source": [
    "train_df=pd.DataFrame(train_df_imputed,columns=train_df.columns)\n",
    "test_df=pd.DataFrame(test_df_imputed,columns=test_df.columns)"
   ]
  },
  {
   "cell_type": "code",
   "execution_count": 26,
   "id": "80534a91-9023-488f-8fe6-bf1b145c3836",
   "metadata": {},
   "outputs": [
    {
     "data": {
      "text/plain": [
       "longitude             0\n",
       "latitude              0\n",
       "housing_median_age    0\n",
       "total_rooms           0\n",
       "total_bedrooms        0\n",
       "population            0\n",
       "households            0\n",
       "median_income         0\n",
       "median_house_value    0\n",
       "INLAND                0\n",
       "ISLAND                0\n",
       "NEAR BAY              0\n",
       "NEAR OCEAN            0\n",
       "distance_to_SF        0\n",
       "distance_to_LA        0\n",
       "dtype: int64"
      ]
     },
     "execution_count": 26,
     "metadata": {},
     "output_type": "execute_result"
    }
   ],
   "source": [
    "train_df.isnull().sum()"
   ]
  },
  {
   "cell_type": "markdown",
   "id": "be7befa1-eb26-4ac8-9eea-65d340e394a9",
   "metadata": {},
   "source": [
    "### Derive distance to San Francisco and Los Angeles"
   ]
  },
  {
   "cell_type": "code",
   "execution_count": 20,
   "id": "bae2e9e8-c19d-4866-8f69-7cee84e18ab2",
   "metadata": {},
   "outputs": [],
   "source": [
    "# derive features with distance to LA and SF\n",
    "sf_coord=[-122.4194, 37.7749]\n",
    "la_coord=[-118.2437, 34.0522]\n",
    "\n",
    "train_df['distance_to_SF']=round(np.sqrt((train_df['longitude']-sf_coord[0])**2+(train_df['latitude']-sf_coord[1])**2),2)\n",
    "test_df['distance_to_SF']=round(np.sqrt((test_df['longitude']-sf_coord[0])**2+(test_df['latitude']-sf_coord[1])**2),2)\n",
    "\n",
    "train_df['distance_to_LA']=round(np.sqrt((train_df['longitude']-la_coord[0])**2+(train_df['latitude']-la_coord[1])**2),2)\n",
    "test_df['distance_to_LA']=round(np.sqrt((test_df['longitude']-la_coord[0])**2+(test_df['latitude']-la_coord[1])**2),2)"
   ]
  },
  {
   "cell_type": "code",
   "execution_count": 14,
   "id": "79fdc915-b368-49cf-97bd-2e82537559f8",
   "metadata": {},
   "outputs": [
    {
     "data": {
      "text/html": [
       "<div>\n",
       "<style scoped>\n",
       "    .dataframe tbody tr th:only-of-type {\n",
       "        vertical-align: middle;\n",
       "    }\n",
       "\n",
       "    .dataframe tbody tr th {\n",
       "        vertical-align: top;\n",
       "    }\n",
       "\n",
       "    .dataframe thead th {\n",
       "        text-align: right;\n",
       "    }\n",
       "</style>\n",
       "<table border=\"1\" class=\"dataframe\">\n",
       "  <thead>\n",
       "    <tr style=\"text-align: right;\">\n",
       "      <th></th>\n",
       "      <th>longitude</th>\n",
       "      <th>latitude</th>\n",
       "      <th>housing_median_age</th>\n",
       "      <th>total_rooms</th>\n",
       "      <th>total_bedrooms</th>\n",
       "      <th>population</th>\n",
       "      <th>households</th>\n",
       "      <th>median_income</th>\n",
       "      <th>median_house_value</th>\n",
       "      <th>INLAND</th>\n",
       "      <th>ISLAND</th>\n",
       "      <th>NEAR BAY</th>\n",
       "      <th>NEAR OCEAN</th>\n",
       "      <th>distance_to_SF</th>\n",
       "      <th>distance_to_LA</th>\n",
       "    </tr>\n",
       "  </thead>\n",
       "  <tbody>\n",
       "    <tr>\n",
       "      <th>0</th>\n",
       "      <td>-118.35</td>\n",
       "      <td>34.28</td>\n",
       "      <td>30.0</td>\n",
       "      <td>3214.0</td>\n",
       "      <td>513.0</td>\n",
       "      <td>1700.0</td>\n",
       "      <td>533.0</td>\n",
       "      <td>4.6944</td>\n",
       "      <td>248200.0</td>\n",
       "      <td>0.0</td>\n",
       "      <td>0.0</td>\n",
       "      <td>0.0</td>\n",
       "      <td>0.0</td>\n",
       "      <td>5.36</td>\n",
       "      <td>0.25</td>\n",
       "    </tr>\n",
       "    <tr>\n",
       "      <th>1</th>\n",
       "      <td>-118.45</td>\n",
       "      <td>34.44</td>\n",
       "      <td>16.0</td>\n",
       "      <td>13406.0</td>\n",
       "      <td>2574.0</td>\n",
       "      <td>7030.0</td>\n",
       "      <td>2440.0</td>\n",
       "      <td>4.6861</td>\n",
       "      <td>187900.0</td>\n",
       "      <td>0.0</td>\n",
       "      <td>0.0</td>\n",
       "      <td>0.0</td>\n",
       "      <td>0.0</td>\n",
       "      <td>5.18</td>\n",
       "      <td>0.44</td>\n",
       "    </tr>\n",
       "    <tr>\n",
       "      <th>2</th>\n",
       "      <td>-117.78</td>\n",
       "      <td>33.69</td>\n",
       "      <td>16.0</td>\n",
       "      <td>3400.0</td>\n",
       "      <td>501.0</td>\n",
       "      <td>1575.0</td>\n",
       "      <td>488.0</td>\n",
       "      <td>6.0961</td>\n",
       "      <td>295500.0</td>\n",
       "      <td>0.0</td>\n",
       "      <td>0.0</td>\n",
       "      <td>0.0</td>\n",
       "      <td>0.0</td>\n",
       "      <td>6.18</td>\n",
       "      <td>0.59</td>\n",
       "    </tr>\n",
       "    <tr>\n",
       "      <th>3</th>\n",
       "      <td>-118.32</td>\n",
       "      <td>34.09</td>\n",
       "      <td>27.0</td>\n",
       "      <td>210.0</td>\n",
       "      <td>98.0</td>\n",
       "      <td>332.0</td>\n",
       "      <td>112.0</td>\n",
       "      <td>2.5556</td>\n",
       "      <td>175000.0</td>\n",
       "      <td>0.0</td>\n",
       "      <td>0.0</td>\n",
       "      <td>0.0</td>\n",
       "      <td>0.0</td>\n",
       "      <td>5.51</td>\n",
       "      <td>0.09</td>\n",
       "    </tr>\n",
       "    <tr>\n",
       "      <th>4</th>\n",
       "      <td>-122.20</td>\n",
       "      <td>37.79</td>\n",
       "      <td>40.0</td>\n",
       "      <td>1060.0</td>\n",
       "      <td>256.0</td>\n",
       "      <td>667.0</td>\n",
       "      <td>235.0</td>\n",
       "      <td>4.1739</td>\n",
       "      <td>169600.0</td>\n",
       "      <td>0.0</td>\n",
       "      <td>0.0</td>\n",
       "      <td>1.0</td>\n",
       "      <td>0.0</td>\n",
       "      <td>0.22</td>\n",
       "      <td>5.44</td>\n",
       "    </tr>\n",
       "    <tr>\n",
       "      <th>5</th>\n",
       "      <td>-118.12</td>\n",
       "      <td>34.03</td>\n",
       "      <td>20.0</td>\n",
       "      <td>2595.0</td>\n",
       "      <td>428.0</td>\n",
       "      <td>1751.0</td>\n",
       "      <td>479.0</td>\n",
       "      <td>5.6112</td>\n",
       "      <td>308000.0</td>\n",
       "      <td>0.0</td>\n",
       "      <td>0.0</td>\n",
       "      <td>0.0</td>\n",
       "      <td>0.0</td>\n",
       "      <td>5.70</td>\n",
       "      <td>0.13</td>\n",
       "    </tr>\n",
       "    <tr>\n",
       "      <th>6</th>\n",
       "      <td>-117.95</td>\n",
       "      <td>33.63</td>\n",
       "      <td>29.0</td>\n",
       "      <td>1496.0</td>\n",
       "      <td>282.0</td>\n",
       "      <td>463.0</td>\n",
       "      <td>215.0</td>\n",
       "      <td>6.0516</td>\n",
       "      <td>500001.0</td>\n",
       "      <td>0.0</td>\n",
       "      <td>0.0</td>\n",
       "      <td>0.0</td>\n",
       "      <td>0.0</td>\n",
       "      <td>6.10</td>\n",
       "      <td>0.51</td>\n",
       "    </tr>\n",
       "    <tr>\n",
       "      <th>7</th>\n",
       "      <td>-119.45</td>\n",
       "      <td>35.16</td>\n",
       "      <td>34.0</td>\n",
       "      <td>3437.0</td>\n",
       "      <td>696.0</td>\n",
       "      <td>1783.0</td>\n",
       "      <td>608.0</td>\n",
       "      <td>2.3912</td>\n",
       "      <td>52900.0</td>\n",
       "      <td>1.0</td>\n",
       "      <td>0.0</td>\n",
       "      <td>0.0</td>\n",
       "      <td>0.0</td>\n",
       "      <td>3.96</td>\n",
       "      <td>1.64</td>\n",
       "    </tr>\n",
       "    <tr>\n",
       "      <th>8</th>\n",
       "      <td>-117.92</td>\n",
       "      <td>34.63</td>\n",
       "      <td>34.0</td>\n",
       "      <td>81.0</td>\n",
       "      <td>26.0</td>\n",
       "      <td>53.0</td>\n",
       "      <td>14.0</td>\n",
       "      <td>1.4091</td>\n",
       "      <td>137500.0</td>\n",
       "      <td>1.0</td>\n",
       "      <td>0.0</td>\n",
       "      <td>0.0</td>\n",
       "      <td>0.0</td>\n",
       "      <td>5.49</td>\n",
       "      <td>0.66</td>\n",
       "    </tr>\n",
       "    <tr>\n",
       "      <th>9</th>\n",
       "      <td>-117.11</td>\n",
       "      <td>32.75</td>\n",
       "      <td>34.0</td>\n",
       "      <td>2131.0</td>\n",
       "      <td>594.0</td>\n",
       "      <td>1373.0</td>\n",
       "      <td>562.0</td>\n",
       "      <td>2.1130</td>\n",
       "      <td>102100.0</td>\n",
       "      <td>0.0</td>\n",
       "      <td>0.0</td>\n",
       "      <td>0.0</td>\n",
       "      <td>1.0</td>\n",
       "      <td>7.31</td>\n",
       "      <td>1.73</td>\n",
       "    </tr>\n",
       "  </tbody>\n",
       "</table>\n",
       "</div>"
      ],
      "text/plain": [
       "   longitude  latitude  housing_median_age  total_rooms  total_bedrooms  \\\n",
       "0    -118.35     34.28                30.0       3214.0           513.0   \n",
       "1    -118.45     34.44                16.0      13406.0          2574.0   \n",
       "2    -117.78     33.69                16.0       3400.0           501.0   \n",
       "3    -118.32     34.09                27.0        210.0            98.0   \n",
       "4    -122.20     37.79                40.0       1060.0           256.0   \n",
       "5    -118.12     34.03                20.0       2595.0           428.0   \n",
       "6    -117.95     33.63                29.0       1496.0           282.0   \n",
       "7    -119.45     35.16                34.0       3437.0           696.0   \n",
       "8    -117.92     34.63                34.0         81.0            26.0   \n",
       "9    -117.11     32.75                34.0       2131.0           594.0   \n",
       "\n",
       "   population  households  median_income  median_house_value  INLAND  ISLAND  \\\n",
       "0      1700.0       533.0         4.6944            248200.0     0.0     0.0   \n",
       "1      7030.0      2440.0         4.6861            187900.0     0.0     0.0   \n",
       "2      1575.0       488.0         6.0961            295500.0     0.0     0.0   \n",
       "3       332.0       112.0         2.5556            175000.0     0.0     0.0   \n",
       "4       667.0       235.0         4.1739            169600.0     0.0     0.0   \n",
       "5      1751.0       479.0         5.6112            308000.0     0.0     0.0   \n",
       "6       463.0       215.0         6.0516            500001.0     0.0     0.0   \n",
       "7      1783.0       608.0         2.3912             52900.0     1.0     0.0   \n",
       "8        53.0        14.0         1.4091            137500.0     1.0     0.0   \n",
       "9      1373.0       562.0         2.1130            102100.0     0.0     0.0   \n",
       "\n",
       "   NEAR BAY  NEAR OCEAN  distance_to_SF  distance_to_LA  \n",
       "0       0.0         0.0            5.36            0.25  \n",
       "1       0.0         0.0            5.18            0.44  \n",
       "2       0.0         0.0            6.18            0.59  \n",
       "3       0.0         0.0            5.51            0.09  \n",
       "4       1.0         0.0            0.22            5.44  \n",
       "5       0.0         0.0            5.70            0.13  \n",
       "6       0.0         0.0            6.10            0.51  \n",
       "7       0.0         0.0            3.96            1.64  \n",
       "8       0.0         0.0            5.49            0.66  \n",
       "9       0.0         1.0            7.31            1.73  "
      ]
     },
     "execution_count": 14,
     "metadata": {},
     "output_type": "execute_result"
    }
   ],
   "source": [
    "train_df.head(10)"
   ]
  },
  {
   "cell_type": "markdown",
   "id": "b00e34b1-1fb0-4fba-9fa7-0c1c0d7b15a6",
   "metadata": {},
   "source": [
    "### Scale numeric features"
   ]
  },
  {
   "cell_type": "code",
   "execution_count": 22,
   "id": "cea4634f-c459-452b-a6dd-30e0832a6969",
   "metadata": {},
   "outputs": [
    {
     "name": "stdout",
     "output_type": "stream",
     "text": [
      "['longitude', 'latitude', 'housing_median_age', 'total_rooms', 'total_bedrooms', 'population', 'households', 'median_income', 'INLAND', 'ISLAND', 'NEAR BAY', 'NEAR OCEAN', 'distance_to_SF', 'distance_to_LA']\n"
     ]
    }
   ],
   "source": [
    "numerical_features=list(train_df.columns)\n",
    "numerical_features.remove('median_house_value')\n",
    "print(numerical_features)\n",
    "\n",
    "features_to_scale=numerical_features\n",
    "\n",
    "scaler = StandardScaler()\n",
    "\n",
    "X_train_scaled=pd.DataFrame(scaler.fit_transform(train_df[features_to_scale]),\n",
    "                            columns=features_to_scale, index=train_df.index)\n",
    "X_test_scaled=pd.DataFrame(scaler.transform(test_df[features_to_scale]),\n",
    "                           columns=features_to_scale, index=test_df.index)"
   ]
  },
  {
   "cell_type": "code",
   "execution_count": 24,
   "id": "cdf15a6e-7f82-43c7-a437-d848e9d8b5da",
   "metadata": {},
   "outputs": [
    {
     "data": {
      "text/html": [
       "<div>\n",
       "<style scoped>\n",
       "    .dataframe tbody tr th:only-of-type {\n",
       "        vertical-align: middle;\n",
       "    }\n",
       "\n",
       "    .dataframe tbody tr th {\n",
       "        vertical-align: top;\n",
       "    }\n",
       "\n",
       "    .dataframe thead th {\n",
       "        text-align: right;\n",
       "    }\n",
       "</style>\n",
       "<table border=\"1\" class=\"dataframe\">\n",
       "  <thead>\n",
       "    <tr style=\"text-align: right;\">\n",
       "      <th></th>\n",
       "      <th>longitude</th>\n",
       "      <th>latitude</th>\n",
       "      <th>housing_median_age</th>\n",
       "      <th>total_rooms</th>\n",
       "      <th>total_bedrooms</th>\n",
       "      <th>population</th>\n",
       "      <th>households</th>\n",
       "      <th>median_income</th>\n",
       "      <th>INLAND</th>\n",
       "      <th>ISLAND</th>\n",
       "      <th>NEAR BAY</th>\n",
       "      <th>NEAR OCEAN</th>\n",
       "      <th>distance_to_SF</th>\n",
       "      <th>distance_to_LA</th>\n",
       "    </tr>\n",
       "  </thead>\n",
       "  <tbody>\n",
       "    <tr>\n",
       "      <th>0</th>\n",
       "      <td>0.609553</td>\n",
       "      <td>-0.633700</td>\n",
       "      <td>0.105068</td>\n",
       "      <td>0.267195</td>\n",
       "      <td>-0.053828</td>\n",
       "      <td>0.247422</td>\n",
       "      <td>0.092293</td>\n",
       "      <td>0.424206</td>\n",
       "      <td>-0.683491</td>\n",
       "      <td>-0.013923</td>\n",
       "      <td>-0.355746</td>\n",
       "      <td>-0.384079</td>\n",
       "      <td>0.593053</td>\n",
       "      <td>-0.993913</td>\n",
       "    </tr>\n",
       "    <tr>\n",
       "      <th>1</th>\n",
       "      <td>0.559735</td>\n",
       "      <td>-0.558979</td>\n",
       "      <td>-1.003622</td>\n",
       "      <td>4.990733</td>\n",
       "      <td>4.923272</td>\n",
       "      <td>5.005839</td>\n",
       "      <td>5.124210</td>\n",
       "      <td>0.419866</td>\n",
       "      <td>-0.683491</td>\n",
       "      <td>-0.013923</td>\n",
       "      <td>-0.355746</td>\n",
       "      <td>-0.384079</td>\n",
       "      <td>0.521083</td>\n",
       "      <td>-0.915359</td>\n",
       "    </tr>\n",
       "    <tr>\n",
       "      <th>2</th>\n",
       "      <td>0.893517</td>\n",
       "      <td>-0.909234</td>\n",
       "      <td>-1.003622</td>\n",
       "      <td>0.353398</td>\n",
       "      <td>-0.082807</td>\n",
       "      <td>0.135827</td>\n",
       "      <td>-0.026446</td>\n",
       "      <td>1.157171</td>\n",
       "      <td>-0.683491</td>\n",
       "      <td>-0.013923</td>\n",
       "      <td>-0.355746</td>\n",
       "      <td>-0.384079</td>\n",
       "      <td>0.920914</td>\n",
       "      <td>-0.853343</td>\n",
       "    </tr>\n",
       "    <tr>\n",
       "      <th>3</th>\n",
       "      <td>0.624499</td>\n",
       "      <td>-0.722431</td>\n",
       "      <td>-0.132509</td>\n",
       "      <td>-1.125025</td>\n",
       "      <td>-1.056009</td>\n",
       "      <td>-0.973875</td>\n",
       "      <td>-1.018581</td>\n",
       "      <td>-0.694198</td>\n",
       "      <td>-0.683491</td>\n",
       "      <td>-0.013923</td>\n",
       "      <td>-0.355746</td>\n",
       "      <td>-0.384079</td>\n",
       "      <td>0.653027</td>\n",
       "      <td>-1.060063</td>\n",
       "    </tr>\n",
       "    <tr>\n",
       "      <th>4</th>\n",
       "      <td>-1.308445</td>\n",
       "      <td>1.005496</td>\n",
       "      <td>0.896989</td>\n",
       "      <td>-0.731088</td>\n",
       "      <td>-0.674456</td>\n",
       "      <td>-0.674800</td>\n",
       "      <td>-0.694026</td>\n",
       "      <td>0.152030</td>\n",
       "      <td>-0.683491</td>\n",
       "      <td>-0.013923</td>\n",
       "      <td>2.810991</td>\n",
       "      <td>-0.384079</td>\n",
       "      <td>-1.462079</td>\n",
       "      <td>1.151840</td>\n",
       "    </tr>\n",
       "    <tr>\n",
       "      <th>5</th>\n",
       "      <td>0.724135</td>\n",
       "      <td>-0.750452</td>\n",
       "      <td>-0.686854</td>\n",
       "      <td>-0.019684</td>\n",
       "      <td>-0.259094</td>\n",
       "      <td>0.292953</td>\n",
       "      <td>-0.050194</td>\n",
       "      <td>0.903611</td>\n",
       "      <td>-0.683491</td>\n",
       "      <td>-0.013923</td>\n",
       "      <td>-0.355746</td>\n",
       "      <td>-0.384079</td>\n",
       "      <td>0.728995</td>\n",
       "      <td>-1.043526</td>\n",
       "    </tr>\n",
       "    <tr>\n",
       "      <th>6</th>\n",
       "      <td>0.808826</td>\n",
       "      <td>-0.937255</td>\n",
       "      <td>0.025876</td>\n",
       "      <td>-0.529021</td>\n",
       "      <td>-0.611669</td>\n",
       "      <td>-0.856923</td>\n",
       "      <td>-0.746799</td>\n",
       "      <td>1.133901</td>\n",
       "      <td>-0.683491</td>\n",
       "      <td>-0.013923</td>\n",
       "      <td>-0.355746</td>\n",
       "      <td>-0.384079</td>\n",
       "      <td>0.888928</td>\n",
       "      <td>-0.886419</td>\n",
       "    </tr>\n",
       "    <tr>\n",
       "      <th>7</th>\n",
       "      <td>0.061554</td>\n",
       "      <td>-0.222733</td>\n",
       "      <td>0.421836</td>\n",
       "      <td>0.370546</td>\n",
       "      <td>0.388098</td>\n",
       "      <td>0.321521</td>\n",
       "      <td>0.290192</td>\n",
       "      <td>-0.780164</td>\n",
       "      <td>1.463078</td>\n",
       "      <td>-0.013923</td>\n",
       "      <td>-0.355746</td>\n",
       "      <td>-0.384079</td>\n",
       "      <td>0.033289</td>\n",
       "      <td>-0.419232</td>\n",
       "    </tr>\n",
       "    <tr>\n",
       "      <th>8</th>\n",
       "      <td>0.823771</td>\n",
       "      <td>-0.470247</td>\n",
       "      <td>0.421836</td>\n",
       "      <td>-1.184811</td>\n",
       "      <td>-1.229882</td>\n",
       "      <td>-1.222955</td>\n",
       "      <td>-1.277169</td>\n",
       "      <td>-1.293716</td>\n",
       "      <td>1.463078</td>\n",
       "      <td>-0.013923</td>\n",
       "      <td>-0.355746</td>\n",
       "      <td>-0.384079</td>\n",
       "      <td>0.645031</td>\n",
       "      <td>-0.824403</td>\n",
       "    </tr>\n",
       "    <tr>\n",
       "      <th>9</th>\n",
       "      <td>1.227298</td>\n",
       "      <td>-1.348221</td>\n",
       "      <td>0.421836</td>\n",
       "      <td>-0.234727</td>\n",
       "      <td>0.141779</td>\n",
       "      <td>-0.044511</td>\n",
       "      <td>0.168814</td>\n",
       "      <td>-0.925638</td>\n",
       "      <td>-0.683491</td>\n",
       "      <td>-0.013923</td>\n",
       "      <td>-0.355746</td>\n",
       "      <td>2.603631</td>\n",
       "      <td>1.372723</td>\n",
       "      <td>-0.382022</td>\n",
       "    </tr>\n",
       "  </tbody>\n",
       "</table>\n",
       "</div>"
      ],
      "text/plain": [
       "   longitude  latitude  housing_median_age  total_rooms  total_bedrooms  \\\n",
       "0   0.609553 -0.633700            0.105068     0.267195       -0.053828   \n",
       "1   0.559735 -0.558979           -1.003622     4.990733        4.923272   \n",
       "2   0.893517 -0.909234           -1.003622     0.353398       -0.082807   \n",
       "3   0.624499 -0.722431           -0.132509    -1.125025       -1.056009   \n",
       "4  -1.308445  1.005496            0.896989    -0.731088       -0.674456   \n",
       "5   0.724135 -0.750452           -0.686854    -0.019684       -0.259094   \n",
       "6   0.808826 -0.937255            0.025876    -0.529021       -0.611669   \n",
       "7   0.061554 -0.222733            0.421836     0.370546        0.388098   \n",
       "8   0.823771 -0.470247            0.421836    -1.184811       -1.229882   \n",
       "9   1.227298 -1.348221            0.421836    -0.234727        0.141779   \n",
       "\n",
       "   population  households  median_income    INLAND    ISLAND  NEAR BAY  \\\n",
       "0    0.247422    0.092293       0.424206 -0.683491 -0.013923 -0.355746   \n",
       "1    5.005839    5.124210       0.419866 -0.683491 -0.013923 -0.355746   \n",
       "2    0.135827   -0.026446       1.157171 -0.683491 -0.013923 -0.355746   \n",
       "3   -0.973875   -1.018581      -0.694198 -0.683491 -0.013923 -0.355746   \n",
       "4   -0.674800   -0.694026       0.152030 -0.683491 -0.013923  2.810991   \n",
       "5    0.292953   -0.050194       0.903611 -0.683491 -0.013923 -0.355746   \n",
       "6   -0.856923   -0.746799       1.133901 -0.683491 -0.013923 -0.355746   \n",
       "7    0.321521    0.290192      -0.780164  1.463078 -0.013923 -0.355746   \n",
       "8   -1.222955   -1.277169      -1.293716  1.463078 -0.013923 -0.355746   \n",
       "9   -0.044511    0.168814      -0.925638 -0.683491 -0.013923 -0.355746   \n",
       "\n",
       "   NEAR OCEAN  distance_to_SF  distance_to_LA  \n",
       "0   -0.384079        0.593053       -0.993913  \n",
       "1   -0.384079        0.521083       -0.915359  \n",
       "2   -0.384079        0.920914       -0.853343  \n",
       "3   -0.384079        0.653027       -1.060063  \n",
       "4   -0.384079       -1.462079        1.151840  \n",
       "5   -0.384079        0.728995       -1.043526  \n",
       "6   -0.384079        0.888928       -0.886419  \n",
       "7   -0.384079        0.033289       -0.419232  \n",
       "8   -0.384079        0.645031       -0.824403  \n",
       "9    2.603631        1.372723       -0.382022  "
      ]
     },
     "execution_count": 24,
     "metadata": {},
     "output_type": "execute_result"
    }
   ],
   "source": [
    "X_train_scaled.head(10)"
   ]
  },
  {
   "cell_type": "markdown",
   "id": "6a369413-8f9b-46ea-800b-4a10aabf8257",
   "metadata": {},
   "source": [
    "# MODEL TRAINING AND EVALUATION"
   ]
  },
  {
   "cell_type": "markdown",
   "id": "5b08416d-2d87-49d5-80c6-7b611ff00136",
   "metadata": {},
   "source": [
    "Let's prepare cross validation samples. As far as there are not a lot of data we can easily divide it on 10 folds, that are taken from shuffled train data. Within every split we will train our model on 90% of train data and compute CV metric on the other 10%.\n",
    "\n",
    "We fix the random state for the reproducibility."
   ]
  },
  {
   "cell_type": "code",
   "execution_count": 25,
   "id": "3dddb04f-4d76-47fe-ad70-7819ffe34849",
   "metadata": {},
   "outputs": [],
   "source": [
    "kf = KFold(n_splits=10, random_state=17, shuffle=True)"
   ]
  },
  {
   "cell_type": "code",
   "execution_count": 27,
   "id": "9ce42770-4503-42f8-ba79-b109dcb2d6f6",
   "metadata": {},
   "outputs": [
    {
     "name": "stdout",
     "output_type": "stream",
     "text": [
      "68302.45387901775\n"
     ]
    }
   ],
   "source": [
    "model=Ridge(alpha=1)\n",
    "X=train_df[numerical_features]\n",
    "y=train_df['median_house_value']\n",
    "cv_scores = cross_val_score(model, X, y, cv=kf, scoring='neg_mean_squared_error', n_jobs=-1)\n",
    "print(np.sqrt(-cv_scores.mean()))"
   ]
  },
  {
   "cell_type": "code",
   "execution_count": 29,
   "id": "c692b990-775d-43ab-8ce5-ecccbfd09e91",
   "metadata": {},
   "outputs": [],
   "source": [
    "features_for_trees=['INLAND', 'ISLAND', 'NEAR BAY', 'NEAR OCEAN',\n",
    "       'longitude', 'latitude', 'housing_median_age', 'total_rooms',\n",
    "       'total_bedrooms', 'population', 'households', 'median_income',\n",
    "       'distance_to_SF', 'distance_to_LA']  "
   ]
  },
  {
   "cell_type": "code",
   "execution_count": 32,
   "id": "94b84caf-8a9f-4073-b40e-1d279894079e",
   "metadata": {},
   "outputs": [
    {
     "name": "stdout",
     "output_type": "stream",
     "text": [
      "47976.25441081968\n"
     ]
    }
   ],
   "source": [
    "X_trees=X[features_for_trees]\n",
    "\n",
    "model_rf=RandomForestRegressor(n_estimators=100, random_state=17)\n",
    "cv_scores = cross_val_score(model_rf, X_trees, y, cv=kf, scoring='neg_mean_squared_error', n_jobs=-1)\n",
    "\n",
    "print(np.sqrt(-cv_scores.mean()))"
   ]
  },
  {
   "cell_type": "markdown",
   "id": "45b08788-5730-4d1b-b48e-54809f4b007e",
   "metadata": {},
   "source": [
    "We can see significant improvement, comparing to the linear model and higher n_estimator probably will help. But first, let's try to tune other hyperparametres:"
   ]
  },
  {
   "cell_type": "code",
   "execution_count": 33,
   "id": "95e04c97-9b47-427b-9b41-95a2beb51c4b",
   "metadata": {},
   "outputs": [
    {
     "name": "stdout",
     "output_type": "stream",
     "text": [
      "Fitting 10 folds for each of 16 candidates, totalling 160 fits\n"
     ]
    },
    {
     "data": {
      "text/plain": [
       "GridSearchCV(cv=KFold(n_splits=10, random_state=17, shuffle=True),\n",
       "             estimator=RandomForestRegressor(random_state=17), n_jobs=-1,\n",
       "             param_grid={'max_depth': [22, 23, 24, 25],\n",
       "                         'max_features': [5, 6, 7, 8], 'n_estimators': [100]},\n",
       "             scoring='neg_mean_squared_error', verbose=1)"
      ]
     },
     "execution_count": 33,
     "metadata": {},
     "output_type": "execute_result"
    }
   ],
   "source": [
    "param_grid={'n_estimators': [100],\n",
    "            'max_depth':  [22, 23, 24, 25],\n",
    "            'max_features': [5,6,7,8]}\n",
    "\n",
    "gs=GridSearchCV(model_rf, param_grid, scoring='neg_mean_squared_error', n_jobs=-1, cv=kf, verbose=1)\n",
    "\n",
    "gs.fit(X_trees,y)"
   ]
  },
  {
   "cell_type": "code",
   "execution_count": 34,
   "id": "2ca26099-089d-4b72-acf0-c7eca6c3fc49",
   "metadata": {},
   "outputs": [
    {
     "name": "stdout",
     "output_type": "stream",
     "text": [
      "45834.08928011807\n"
     ]
    }
   ],
   "source": [
    "print(np.sqrt(-gs.best_score_))"
   ]
  },
  {
   "cell_type": "code",
   "execution_count": 35,
   "id": "2b9e2c63-5f5e-44e3-b1d2-11ea4f791ffb",
   "metadata": {},
   "outputs": [
    {
     "data": {
      "text/plain": [
       "{'max_depth': 24, 'max_features': 5, 'n_estimators': 100}"
      ]
     },
     "execution_count": 35,
     "metadata": {},
     "output_type": "execute_result"
    }
   ],
   "source": [
    "gs.best_params_"
   ]
  },
  {
   "cell_type": "code",
   "execution_count": 36,
   "id": "d724b729-0eca-455d-a206-97adb6ffb1d6",
   "metadata": {},
   "outputs": [],
   "source": [
    "best_depth=gs.best_params_['max_depth']\n",
    "best_features=gs.best_params_['max_features']"
   ]
  },
  {
   "cell_type": "code",
   "execution_count": 37,
   "id": "682c30cc-f222-48a3-8796-8ce3d1acda9d",
   "metadata": {},
   "outputs": [
    {
     "name": "stdout",
     "output_type": "stream",
     "text": [
      "45834.08928011807\n",
      "CPU times: user 29.4 ms, sys: 3.86 ms, total: 33.3 ms\n",
      "Wall time: 16 s\n"
     ]
    }
   ],
   "source": [
    "%%time\n",
    "model_rf=RandomForestRegressor(n_estimators=100, max_depth=best_depth, max_features=best_features, random_state=17)\n",
    "cv_scores = cross_val_score(model_rf, X_trees, y, cv=kf, scoring='neg_mean_squared_error', n_jobs=-1)\n",
    "\n",
    "print(np.sqrt(-cv_scores.mean()))"
   ]
  }
 ],
 "metadata": {
  "kernelspec": {
   "display_name": "default:Python",
   "language": "python",
   "name": "conda-env-default-py"
  },
  "language_info": {
   "codemirror_mode": {
    "name": "ipython",
    "version": 3
   },
   "file_extension": ".py",
   "mimetype": "text/x-python",
   "name": "python",
   "nbconvert_exporter": "python",
   "pygments_lexer": "ipython3",
   "version": "3.9.13"
  }
 },
 "nbformat": 4,
 "nbformat_minor": 5
}
